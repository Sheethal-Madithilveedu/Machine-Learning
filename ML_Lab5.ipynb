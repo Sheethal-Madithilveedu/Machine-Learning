{
 "cells": [
  {
   "cell_type": "code",
   "execution_count": null,
   "id": "686c09fe-cec2-41fe-a61d-81e263d1c782",
   "metadata": {},
   "outputs": [],
   "source": [
    "'''A1. If your project deals with a regression problem, please use one attribute of your dataset\n",
    "(X_train) along with the target values (y_train) for training a linear regression model. Sample code\n",
    "suggested below.\n",
    "from sklearn.linear_model import LinearRegression\n",
    "reg = LinearRegression().fit(X_train, y_train)\n",
    "y_train_pred = reg.predict(X_train)\n",
    "(P.S.: If your project deals with a classification or clustering problem, please consider one of the\n",
    "attributes with numerical values as target values.)'''"
   ]
  },
  {
   "cell_type": "code",
   "execution_count": 5,
   "id": "1f7b60b4-11f2-41f4-a262-d49e266f0ba0",
   "metadata": {},
   "outputs": [
    {
     "name": "stdout",
     "output_type": "stream",
     "text": [
      "     VSKP  Temperature_1  Wind_Speed_1  Distance_travelled_1  YLM  \\\n",
      "0       2           30.2           2.8                     0   12   \n",
      "1       2           31.2           2.1                     0    8   \n",
      "2       0           30.5           2.4                     0   15   \n",
      "3       1           30.5           2.3                     0    9   \n",
      "4       0           30.2           2.3                     0   26   \n",
      "..    ...            ...           ...                   ...  ...   \n",
      "358     0           28.6           2.0                     0   18   \n",
      "359     2           28.8           1.7                     0    0   \n",
      "360     1           29.8           2.0                     0    4   \n",
      "361     4           30.0           2.8                     0    7   \n",
      "362     1           28.6           2.6                     0    3   \n",
      "\n",
      "     Temperature_4  Wind_Speed_4  Distance_travelled_4  ANV  Temperature_7  \\\n",
      "0             30.7           4.3                    58   25           32.4   \n",
      "1             30.7           4.2                    58   10           31.9   \n",
      "2             30.7           4.0                    58   29           32.4   \n",
      "3             30.6           3.2                    58   15           31.8   \n",
      "4             30.3           3.0                    58   28           32.1   \n",
      "..             ...           ...                   ...  ...            ...   \n",
      "358           29.1           4.2                    58   26           30.1   \n",
      "359           29.6           4.4                    58   11           30.2   \n",
      "360           30.0           4.6                    58   12           30.8   \n",
      "361           29.5           4.7                    58    9           30.4   \n",
      "362           28.8           4.9                    58    3           28.5   \n",
      "\n",
      "     ...  Temperature_19  Wind_Speed_19  Distance_travelled_19  SC  \\\n",
      "0    ...            27.4            5.1                    569   0   \n",
      "1    ...            27.3            5.1                    569  10   \n",
      "2    ...            27.5            4.6                    569  17   \n",
      "3    ...            27.7            3.6                    569   8   \n",
      "4    ...            27.7            2.9                    569  51   \n",
      "..   ...             ...            ...                    ...  ..   \n",
      "358  ...            26.7            6.2                    569   7   \n",
      "359  ...            26.9            5.4                    569   7   \n",
      "360  ...            26.1            5.1                    569   0   \n",
      "361  ...            25.1            5.4                    569   1   \n",
      "362  ...            26.1            7.1                    569   2   \n",
      "\n",
      "     Temperature_20  Wind_Speed_20  Distance_travelled_20  Temperature_21  \\\n",
      "0              27.4            4.0                    701            27.4   \n",
      "1              27.0            4.3                    701            27.0   \n",
      "2              27.0            3.5                    701            27.0   \n",
      "3              26.6            2.7                    701            26.6   \n",
      "4              27.3            2.5                    701            27.3   \n",
      "..              ...            ...                    ...             ...   \n",
      "358            26.7            3.1                    701            26.7   \n",
      "359            27.3            3.4                    701            27.3   \n",
      "360            28.0            4.1                    701            28.0   \n",
      "361            27.2            3.9                    701            27.2   \n",
      "362            26.9            4.8                    701            26.9   \n",
      "\n",
      "     Wind_Speed_21  Distance_travelled_21  \n",
      "0              4.0                    711  \n",
      "1              4.3                    711  \n",
      "2              3.5                    711  \n",
      "3              2.7                    711  \n",
      "4              2.5                    711  \n",
      "..             ...                    ...  \n",
      "358            3.1                    711  \n",
      "359            3.4                    711  \n",
      "360            4.1                    711  \n",
      "361            3.9                    711  \n",
      "362            4.8                    711  \n",
      "\n",
      "[363 rows x 39 columns]\n"
     ]
    },
    {
     "ename": "NameError",
     "evalue": "name 'LinearRegression' is not defined",
     "output_type": "error",
     "traceback": [
      "\u001b[1;31m---------------------------------------------------------------------------\u001b[0m",
      "\u001b[1;31mNameError\u001b[0m                                 Traceback (most recent call last)",
      "Cell \u001b[1;32mIn[5], line 14\u001b[0m\n\u001b[0;32m     11\u001b[0m \u001b[38;5;28mprint\u001b[39m(X)\n\u001b[0;32m     12\u001b[0m y \u001b[38;5;241m=\u001b[39m data[\u001b[38;5;124m'\u001b[39m\u001b[38;5;124mHYB\u001b[39m\u001b[38;5;124m'\u001b[39m]\n\u001b[1;32m---> 14\u001b[0m reg \u001b[38;5;241m=\u001b[39m LinearRegression()\u001b[38;5;241m.\u001b[39mfit(X_train, y_train)\n\u001b[0;32m     15\u001b[0m y_train_pred \u001b[38;5;241m=\u001b[39m reg\u001b[38;5;241m.\u001b[39mpredict(X_train)\n\u001b[0;32m     17\u001b[0m \u001b[38;5;28;01mfor\u001b[39;00m i \u001b[38;5;129;01min\u001b[39;00m \u001b[38;5;28mrange\u001b[39m(\u001b[38;5;28mlen\u001b[39m(y)):\n",
      "\u001b[1;31mNameError\u001b[0m: name 'LinearRegression' is not defined"
     ]
    }
   ],
   "source": [
    "import numpy as np\n",
    "import pandas as pd\n",
    "\n",
    "data = pd.read_csv('new_data.csv')\n",
    "columns_to_exclude = ['date(dd/mm/yy)']\n",
    "data = data.drop(columns = columns_to_exclude).dropna()\n",
    "\n",
    "#train test split for hyderabad station\n",
    "\n",
    "X = data.drop(columns = ['HYB'])\n",
    "print(X)\n",
    "y = data['HYB']\n",
    "\n",
    "reg = LinearRegression().fit(X_train, y_train)\n",
    "y_train_pred = reg.predict(X_train)\n",
    "\n",
    "for i in range(len(y)):\n",
    "    if((y[i])>=5):\n",
    "        y[i] = 1\n",
    "    else:\n",
    "        y[i] = 0\n",
    "\n",
    "X_train, X_test, y_train, y_test = train_test_split(X, y, test_size=0.2, random_state=42)\n",
    "\n",
    "reg = LinearRegression().fit(X_train, y_train)\n",
    "y_train_pred = reg.predict(X_train)"
   ]
  },
  {
   "cell_type": "code",
   "execution_count": null,
   "id": "d53b90dc-3c5d-43b0-bb52-455b6d2c1344",
   "metadata": {},
   "outputs": [],
   "source": []
  }
 ],
 "metadata": {
  "kernelspec": {
   "display_name": "Python 3 (ipykernel)",
   "language": "python",
   "name": "python3"
  },
  "language_info": {
   "codemirror_mode": {
    "name": "ipython",
    "version": 3
   },
   "file_extension": ".py",
   "mimetype": "text/x-python",
   "name": "python",
   "nbconvert_exporter": "python",
   "pygments_lexer": "ipython3",
   "version": "3.12.4"
  }
 },
 "nbformat": 4,
 "nbformat_minor": 5
}
