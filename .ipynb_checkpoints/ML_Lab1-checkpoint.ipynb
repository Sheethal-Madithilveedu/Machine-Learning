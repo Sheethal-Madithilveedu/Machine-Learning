{
 "cells": [
  {
   "cell_type": "code",
   "execution_count": 19,
   "id": "faf15784-84a9-42ec-85e3-355bce6847b0",
   "metadata": {},
   "outputs": [
    {
     "name": "stdout",
     "output_type": "stream",
     "text": [
      "Enter your string\n"
     ]
    },
    {
     "name": "stdin",
     "output_type": "stream",
     "text": [
      " hei\n"
     ]
    },
    {
     "name": "stdout",
     "output_type": "stream",
     "text": [
      "hei\n",
      "2\n",
      "1\n"
     ]
    }
   ],
   "source": [
    "\n",
    "print(\"Enter your string\")\n",
    "string = input()\n",
    "print(string)\n",
    "countv = 0\n",
    "countc = 0\n",
    "vowels = [\"a\", \"e\", \"i\", \"o\", \"u\"]\n",
    "for i in string:\n",
    "    if i in vowels:\n",
    "        countv+=1\n",
    "    else:\n",
    "        countc+=1\n",
    "print(\"Number of vowels:\"countv)\n",
    "print(\"Number of consonants:\"countc)\n"
   ]
  },
  {
   "cell_type": "code",
   "execution_count": 94,
   "id": "1078d054-b12e-45db-9af1-b78c5ce777b5",
   "metadata": {},
   "outputs": [
    {
     "name": "stdin",
     "output_type": "stream",
     "text": [
      "Enter the number of rows 2\n",
      "Enter the number of columns 2\n",
      " 2\n",
      " 2\n",
      " 2\n",
      " 2\n"
     ]
    },
    {
     "name": "stdout",
     "output_type": "stream",
     "text": [
      "[[2, 2], [2, 2]]\n"
     ]
    },
    {
     "name": "stdin",
     "output_type": "stream",
     "text": [
      "Enter the number of rows 2\n",
      "Enter the number of columns 2\n",
      " 2\n",
      " 2\n",
      " 2\n",
      " 2\n"
     ]
    },
    {
     "name": "stdout",
     "output_type": "stream",
     "text": [
      "[[2, 2], [2, 2]]\n",
      "[8, 8]\n",
      "[8, 8]\n"
     ]
    }
   ],
   "source": [
    "Rows = int( input(\"Enter the number of rows\"))\n",
    "Columns = int(input(\"Enter the number of columns\"))\n",
    "A = []\n",
    "for i in range(Rows):\n",
    "     row = []\n",
    "     for j in range(Columns):\n",
    "         row.append(int(input()))\n",
    "     \n",
    "     A.append(row)\n",
    "print(A)\n",
    "\n",
    "B = []\n",
    "Rows = int(input(\"Enter the number of rows\"))\n",
    "Columns = int(input(\"Enter the number of columns\"))\n",
    "for i in range(Rows):\n",
    "     row = []\n",
    "     for j in range(Columns):\n",
    "         row.append(int(input()))  \n",
    "     B.append(row)\n",
    "print(B)\n",
    "\n",
    "result = [[sum(a * b for a, b in zip(A_row, B_col)) for B_col in zip(*B)] for A_row in A]\n",
    "\n",
    "for r in result:\n",
    "    print(r)"
   ]
  },
  {
   "cell_type": "code",
   "execution_count": 121,
   "id": "341fd2ad-8976-4488-841b-3defa6da751a",
   "metadata": {},
   "outputs": [
    {
     "name": "stdin",
     "output_type": "stream",
     "text": [
      "Enter the list one abcde\n",
      "Enter the list two abc\n"
     ]
    },
    {
     "name": "stdout",
     "output_type": "stream",
     "text": [
      "['a', 'b', 'c', 'd', 'e']\n"
     ]
    }
   ],
   "source": [
    "A = list(input(\"Enter the list one\"))\n",
    "B = list(input(\"Enter the list two\"))\n",
    "count = 0\n",
    "for i in A:\n",
    "        if i in B:\n",
    "            count+=1\n",
    "print(count)"
   ]
  },
  {
   "cell_type": "code",
   "execution_count": 125,
   "id": "dd728419-83f6-4d20-8dc0-6882163bf6f5",
   "metadata": {},
   "outputs": [
    {
     "name": "stdin",
     "output_type": "stream",
     "text": [
      "Enter number of rows of Amatrix 1\n",
      "Enter number of cols of Amatrix 1\n",
      " 1\n"
     ]
    },
    {
     "name": "stdout",
     "output_type": "stream",
     "text": [
      "[[1]]\n"
     ]
    }
   ],
   "source": [
    "Rows = int(input(\"Enter number of rows of Amatrix\"))\n",
    "Columns = int(input(\"Enter number of cols of Amatrix\"))\n",
    "Matrix = [[int(input()) for i in range (Columns)] for y in range(Rows)]\n",
    "Transpose = [list(r) for r in zip(*Matrix)]\n",
    "print(Transpose)"
   ]
  },
  {
   "cell_type": "code",
   "execution_count": null,
   "id": "18c19edb-d040-4f3c-9e49-f91aec60ca38",
   "metadata": {},
   "outputs": [],
   "source": []
  }
 ],
 "metadata": {
  "kernelspec": {
   "display_name": "Python 3 (ipykernel)",
   "language": "python",
   "name": "python3"
  },
  "language_info": {
   "codemirror_mode": {
    "name": "ipython",
    "version": 3
   },
   "file_extension": ".py",
   "mimetype": "text/x-python",
   "name": "python",
   "nbconvert_exporter": "python",
   "pygments_lexer": "ipython3",
   "version": "3.12.4"
  }
 },
 "nbformat": 4,
 "nbformat_minor": 5
}
