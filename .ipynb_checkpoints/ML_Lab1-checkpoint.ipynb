{
 "cells": [
  {
   "cell_type": "code",
   "execution_count": 5,
   "id": "faf15784-84a9-42ec-85e3-355bce6847b0",
   "metadata": {},
   "outputs": [
    {
     "name": "stdout",
     "output_type": "stream",
     "text": [
      "Enter your string:\n"
     ]
    },
    {
     "name": "stdin",
     "output_type": "stream",
     "text": [
      " hei\n"
     ]
    },
    {
     "name": "stdout",
     "output_type": "stream",
     "text": [
      "The inputted string is: hei\n",
      "Number of vowels: 2\n",
      "Number of consonants: 1\n"
     ]
    }
   ],
   "source": [
    "#Q1) Write a program to count the number of vowels and consonants present in an input string. \n",
    "\n",
    "# function to count the total number of vowels and consonants\n",
    "def count_vowels_and_consonants(text):\n",
    "    vowel_count = 0\n",
    "    consonant_count = 0 \n",
    "    vowels = \"aeiouAEIOU\"  # Including uppercase to handle both cases.\n",
    "    \n",
    "    for char in text:\n",
    "        if char.isalpha():  # Check if the character is an alphabet.\n",
    "            if char in vowels:\n",
    "                vowel_count += 1\n",
    "            else:\n",
    "                consonant_count += 1\n",
    "                \n",
    "    return vowel_count, consonant_count\n",
    "\n",
    "# Main program\n",
    "print(\"Enter your string:\")\n",
    "input_string = input()\n",
    "vowel_count, consonant_count = count_vowels_and_consonants(input_string)\n",
    "print(\"The inputted string is:\",input_string)\n",
    "print(\"Number of vowels:\", vowel_count)\n",
    "print(\"Number of consonants:\", consonant_count)\n"
   ]
  },
  {
   "cell_type": "code",
   "execution_count": 9,
   "id": "1078d054-b12e-45db-9af1-b78c5ce777b5",
   "metadata": {},
   "outputs": [
    {
     "name": "stdout",
     "output_type": "stream",
     "text": [
      "Enter matrix A:\n"
     ]
    },
    {
     "name": "stdin",
     "output_type": "stream",
     "text": [
      "Enter the number of rows:  2\n",
      "Enter the number of columns:  2\n",
      "Enter element [0][0]:  1\n",
      "Enter element [0][1]:  5\n",
      "Enter element [1][0]:  1\n",
      "Enter element [1][1]:  2\n"
     ]
    },
    {
     "name": "stdout",
     "output_type": "stream",
     "text": [
      "Matrix A is\n",
      "[1, 5]\n",
      "[1, 2]\n",
      "Enter matrix B:\n"
     ]
    },
    {
     "name": "stdin",
     "output_type": "stream",
     "text": [
      "Enter the number of rows:  3\n",
      "Enter the number of columns:  4\n",
      "Enter element [0][0]:  2\n",
      "Enter element [0][1]:  5\n",
      "Enter element [0][2]:  4\n",
      "Enter element [0][3]:  6\n",
      "Enter element [1][0]:  8\n",
      "Enter element [1][1]:  5\n",
      "Enter element [1][2]:  2\n",
      "Enter element [1][3]:  3\n",
      "Enter element [2][0]:  6\n",
      "Enter element [2][1]:  5\n",
      "Enter element [2][2]:  6\n",
      "Enter element [2][3]:  6\n"
     ]
    },
    {
     "name": "stdout",
     "output_type": "stream",
     "text": [
      "Matrix B is\n",
      "[2, 5, 4, 6]\n",
      "[8, 5, 2, 3]\n",
      "[6, 5, 6, 6]\n",
      "Error: Matrices cannot be multiplied due to incompatible dimensions.\n"
     ]
    }
   ],
   "source": [
    "#Q2) Write a program that accepts two matrices A and B as input and returns their product AB. Check if A & B are multipliable; if not, return error message\n",
    "\n",
    "#Function to input a matrix from the user\n",
    "def input_matrix():\n",
    "    rows = int(input(\"Enter the number of rows: \"))\n",
    "    columns = int(input(\"Enter the number of columns: \"))\n",
    "    matrix = []\n",
    "    for i in range(rows):\n",
    "        row = []\n",
    "        for j in range(columns):\n",
    "            row.append(int(input(f\"Enter element [{i}][{j}]: \")))  # Prompting for each element.\n",
    "        matrix.append(row)\n",
    "    return matrix\n",
    "\n",
    "# Function to check if two matrices can be multiplied by comparing dimensions\n",
    "def are_multipliable(matrix_a, matrix_b):\n",
    "    return len(matrix_a[0]) == len(matrix_b)  # Number of columns in A must equal number of rows in B.\n",
    "\n",
    "# Function to get product of matrices\n",
    "def matrix_multiplication(matrix_a, matrix_b):\n",
    "    return [ [sum(a * b for a, b in zip(row_a, col_b)) for col_b in zip(*matrix_b)] for row_a in matrix_a] # Using list comprehension\n",
    "\n",
    "# Main program\n",
    "print(\"Enter matrix A:\")\n",
    "matrix_a = input_matrix()\n",
    "print(\"Matrix A is\")\n",
    "    \n",
    "for row in matrix_a:\n",
    "    print(row)\n",
    "\n",
    "print(\"Enter matrix B:\")\n",
    "matrix_b = input_matrix()\n",
    "print(\"Matrix B is\")\n",
    "\n",
    "for row in matrix_b:\n",
    "    print(row)\n",
    "\n",
    "# Checking if multiplication is possible\n",
    "if not are_multipliable(matrix_a, matrix_b):\n",
    "    print(\"Error: Matrices cannot be multiplied due to incompatible dimensions.\")\n",
    "else:\n",
    "    # Computing the product\n",
    "    product = matrix_multiplication(matrix_a, matrix_b)\n",
    "    print(\"Product of Matrix A and B:\")\n",
    "    for row in product:\n",
    "        print(row)\n",
    "\n"
   ]
  },
  {
   "cell_type": "code",
   "execution_count": 43,
   "id": "341fd2ad-8976-4488-841b-3defa6da751a",
   "metadata": {},
   "outputs": [
    {
     "name": "stdin",
     "output_type": "stream",
     "text": [
      "Enter the list one:  1,2,3,4\n",
      "Enter the list two:  5,6,7,8\n"
     ]
    },
    {
     "name": "stdout",
     "output_type": "stream",
     "text": [
      "Number of common elements: 0\n"
     ]
    }
   ],
   "source": [
    "#Q3) Write a program to find the number of common elements between two lists. The lists contain integers.\n",
    "\n",
    "#main\n",
    "input_a = input(\"Enter the list one: \")\n",
    "input_b = input(\"Enter the list two: \")\n",
    "\n",
    "common_count = count_common_elements(list_a, list_b) # Calculating the number of common elements\n",
    "print(\"Number of common elements:\", common_count)\n",
    "\n",
    "# Function to return the count of common elements between two lists\n",
    "def count_common_elements(list1, list2):\n",
    "    count = 0\n",
    "    for element in list1:\n",
    "        if element in list2:\n",
    "            count += 1\n",
    "    return count\n",
    "\n",
    "   "
   ]
  },
  {
   "cell_type": "code",
   "execution_count": 55,
   "id": "e19a4ad8-803f-463f-a897-d25f9e0ae796",
   "metadata": {},
   "outputs": [
    {
     "name": "stdin",
     "output_type": "stream",
     "text": [
      "Enter number of rows of the matrix:  2 \n",
      "Enter number of columns of the matrix:  2\n"
     ]
    },
    {
     "name": "stdout",
     "output_type": "stream",
     "text": [
      "Enter the elements of the matrix:\n"
     ]
    },
    {
     "name": "stdin",
     "output_type": "stream",
     "text": [
      " 1\n",
      " 2\n",
      " 3\n",
      " 4\n"
     ]
    },
    {
     "name": "stdout",
     "output_type": "stream",
     "text": [
      "Transpose of the matrix:\n",
      "[1, 3]\n",
      "[2, 4]\n"
     ]
    }
   ],
   "source": [
    "#Q4) Write a program that accepts a matrix as input and returns its transpose.\n",
    "\n",
    "# Function to take matrix input\n",
    "def input_matrix(rows, columns):\n",
    "    return [[int(input()) for _ in range(columns)] for _ in range(rows)]\n",
    "\n",
    "# Function to find transpose of matrix\n",
    "def find_transpose(matrix):\n",
    "    return [list(row) for row in zip(*matrix)]\n",
    "\n",
    "#main\n",
    "rows = int(input(\"Enter number of rows of the matrix: \"))\n",
    "columns = int(input(\"Enter number of columns of the matrix: \"))\n",
    "\n",
    "# Inputting the matrix\n",
    "print(\"Enter the elements of the matrix:\")\n",
    "matrix = input_matrix(rows, columns)\n",
    "\n",
    "transpose = find_transpose(matrix) # Finding transpose of the matrix\n",
    "\n",
    "# Displaying the transpose\n",
    "print(\"Transpose of the matrix:\")\n",
    "for row in transpose:\n",
    "    print(row)\n"
   ]
  }
 ],
 "metadata": {
  "kernelspec": {
   "display_name": "Python 3 (ipykernel)",
   "language": "python",
   "name": "python3"
  },
  "language_info": {
   "codemirror_mode": {
    "name": "ipython",
    "version": 3
   },
   "file_extension": ".py",
   "mimetype": "text/x-python",
   "name": "python",
   "nbconvert_exporter": "python",
   "pygments_lexer": "ipython3",
   "version": "3.12.4"
  }
 },
 "nbformat": 4,
 "nbformat_minor": 5
}
