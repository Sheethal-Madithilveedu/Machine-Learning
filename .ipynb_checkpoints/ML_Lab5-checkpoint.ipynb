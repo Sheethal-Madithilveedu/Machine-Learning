{
 "cells": [
  {
   "cell_type": "code",
   "execution_count": null,
   "id": "686c09fe-cec2-41fe-a61d-81e263d1c782",
   "metadata": {},
   "outputs": [],
   "source": [
    "'''A1. If your project deals with a regression problem, please use one attribute of your dataset\n",
    "(X_train) along with the target values (y_train) for training a linear regression model. Sample code\n",
    "suggested below.\n",
    "from sklearn.linear_model import LinearRegression\n",
    "reg = LinearRegression().fit(X_train, y_train)\n",
    "y_train_pred = reg.predict(X_train)\n",
    "(P.S.: If your project deals with a classification or clustering problem, please consider one of the\n",
    "attributes with numerical values as target values.)'''"
   ]
  },
  {
   "cell_type": "code",
   "execution_count": 1,
   "id": "1f7b60b4-11f2-41f4-a262-d49e266f0ba0",
   "metadata": {},
   "outputs": [
    {
     "name": "stdout",
     "output_type": "stream",
     "text": [
      "[1.50101748 0.95317665 1.44642421 1.56199297 1.3781551  1.72628944\n",
      " 0.89664824 0.10228586 1.56653404 1.44257879 1.51608344 1.28974288\n",
      " 1.88919572 1.43202496 1.92663838 1.71486907 0.35920049 2.13240675\n",
      " 1.31763295 1.23586001 1.5399124  1.9715183  1.82120563 1.66878404\n",
      " 1.33619973 1.89559505 1.93465073 2.04252634 1.87569307 1.57087535\n",
      " 1.75578069 1.5864372  1.55348359 0.70342146 1.28279913 1.59095283\n",
      " 1.52742343 1.61683749 1.89811711 1.29114662 1.13896499 1.28126008\n",
      " 1.65987508 1.89714131 1.4850413  1.46057049 1.69632833 1.23372161\n",
      " 1.67386001 1.44957747 1.82829943 2.0249614  1.92916043 1.80328129\n",
      " 1.88060828 1.3530164  1.39921968 1.40055487 1.83869019 1.65843347\n",
      " 1.51784658 0.96364892 1.43110349 1.34302522 1.56147168 2.23584594\n",
      " 1.90963259 1.44757438 1.69536549 1.68476022 1.76076385 1.19093758\n",
      " 1.52242784]\n"
     ]
    }
   ],
   "source": [
    "import pandas as pd\n",
    "import numpy as np\n",
    "from sklearn.metrics import confusion_matrix, classification_report\n",
    "from sklearn.model_selection import train_test_split\n",
    "import numpy as np\n",
    "from sklearn.linear_model import LinearRegression\n",
    "\n",
    "\n",
    "data = pd.read_csv('new_data1.csv')\n",
    "\n",
    "columns_to_exclude = ['date(dd/mm/yy)']\n",
    "data = data.drop(columns = columns_to_exclude).dropna()\n",
    "\n",
    "X = data[['Temperature_1','Wind_Speed_1','weather_code_1','Distance_travelled_1']]\n",
    "y = data['VSKP']\n",
    "X_train, X_test, y_train, y_test = train_test_split(X, y, test_size = 0.2, random_state = 42)\n",
    "\n",
    "reg = LinearRegression().fit(X_train, y_train)\n",
    "y_train_pred = reg.predict(X_train)\n",
    "y_pred = reg.predict(X_test)\n",
    "\n",
    "print(y_pred)"
   ]
  },
  {
   "cell_type": "code",
   "execution_count": null,
   "id": "d53b90dc-3c5d-43b0-bb52-455b6d2c1344",
   "metadata": {},
   "outputs": [],
   "source": [
    "from sklearn.metrics import mean_squared_error as mse\n",
    "from sklearn.metrics import mean_absolute_percentage_error as mape\n",
    "from sklearn.metrics import r2_score\n",
    "\n",
    "MSE = mse(y_test,y_pred) \n",
    "RMSE = np.sqrt(MSE)\n",
    "MAPE = mape(y_test, y_pred)\n",
    "R2 = r2_score(y_test, y_pred)\n",
    "print('Test data metrics for VSKP:')\n",
    "print('MSE: ',MSE)\n",
    "print('RMSE: ',RMSE)\n",
    "print('MAPE: ',MAPE)\n",
    "print('R2 score: ',R2)"
   ]
  }
 ],
 "metadata": {
  "kernelspec": {
   "display_name": "Python 3 (ipykernel)",
   "language": "python",
   "name": "python3"
  },
  "language_info": {
   "codemirror_mode": {
    "name": "ipython",
    "version": 3
   },
   "file_extension": ".py",
   "mimetype": "text/x-python",
   "name": "python",
   "nbconvert_exporter": "python",
   "pygments_lexer": "ipython3",
   "version": "3.12.4"
  }
 },
 "nbformat": 4,
 "nbformat_minor": 5
}
