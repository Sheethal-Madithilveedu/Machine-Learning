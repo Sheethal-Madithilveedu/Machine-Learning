{
 "cells": [
  {
   "cell_type": "code",
   "execution_count": null,
   "id": "8469ecf7-6384-4cc5-ac0e-ca3c9edf1820",
   "metadata": {},
   "outputs": [],
   "source": [
    "'''A1. Evaluate the intraclass spread and interclass distances between the classes in your dataset. If your data deals with multiple classes, you can take any two classes. Steps below (refer below diagram for understanding): \n",
    "•\tCalculate the mean for each class (also called as class centroid) \n",
    "•\tCalculate spread (standard deviation) for each class \n",
    "•\tCalculate the distance between mean vectors between classes\n",
    "A2. Take any feature from your dataset. Observe the density pattern for that feature by plotting the histogram. Use buckets (data in ranges) for histogram generation and study. Calculate the mean and variance from the available data.\n",
    "A3. Take any two feature vectors from your dataset. Calculate the Minkwoski distance with r from 1 to 10. Make a plot of the distance and observe the nature of this graph. \n",
    "A4. Divide dataset in your project into two parts – train & test set. To accomplish this, use the traintest_split() function available in SciKit\n",
    "A5. Train a kNN classifier (k =3) using the training set obtained from above exercise.\n",
    "A6. Test the accuracy of the kNN using the test set obtained from above exercise.\n",
    "A7. Use the predict() function to study the prediction behavior of the classifier for test vectors. \n",
    "A8. Make k = 1 to implement NN classifier and compare the results with kNN (k = 3). Vary k from 1 to 11 and make an accuracy plot. \n",
    "A9. Please evaluate confusion matrix for your classification problem. From confusion matrix, the other performance metrics such as precision, recall and F1-Score measures for both training and test data. Based on your observations, infer the models learning outcome (underfit / regularfit / overfit).'''\n"
   ]
  },
  {
   "cell_type": "code",
   "execution_count": 5,
   "id": "b9519cf5-724f-4b17-8daa-93f26bb484da",
   "metadata": {},
   "outputs": [
    {
     "name": "stdout",
     "output_type": "stream",
     "text": [
      "{'clouds': 37, 'datetime': '2023-08-04', 'dewpt': 18.5, 'dhi': 50, 'dni': 403, 'ghi': 331, 'max_dhi': 123, 'max_dni': 944, 'max_ghi': 1056, 'max_temp': 28, 'max_temp_ts': 1691146800, 'max_uv': 5, 'max_wind_dir': 262, 'max_wind_spd': 7.1, 'max_wind_spd_ts': 1691128800, 'min_temp': 20, 'min_temp_ts': 1691103600, 'precip': 0.5, 'precip_gpm': 0.5, 'pres': 912, 'revision_status': 'final', 'rh': 72, 'slp': 1011, 'snow': 0, 'snow_depth': None, 'solar_rad': 200, 't_dhi': 1191, 't_dni': 9675, 't_ghi': 7949, 't_solar_rad': 4799, 'temp': 24, 'ts': 1691087400, 'wind_dir': 262, 'wind_gust_spd': 14.8, 'wind_spd': 5.3}\n"
     ]
    }
   ],
   "source": [
    "import requests\n",
    "\n",
    "def fetch_weather_data(postal_code, country_code, start_date, end_date, api_key):\n",
    "    url = f\"https://api.weatherbit.io/v2.0/history/daily\"\n",
    "    params = {\n",
    "        \"postal_code\": postal_code,\n",
    "        \"country\": country_code,\n",
    "        \"start_date\": start_date,\n",
    "        \"end_date\": end_date,\n",
    "        \"key\": api_key\n",
    "    }\n",
    "\n",
    "    try:\n",
    "        response = requests.get(url, params=params)\n",
    "        response.raise_for_status() \n",
    "\n",
    "        data = response.json()\n",
    "        return data\n",
    "\n",
    "    except requests.exceptions.HTTPError as http_err:\n",
    "        print(f\"HTTP error occurred: {http_err}\")\n",
    "    except Exception as err:\n",
    "        print(f\"Other error occurred: {err}\")\n",
    "\n",
    "    return None\n",
    "\n",
    "\n",
    "#api_key\n",
    "\n",
    "\n",
    "postal_code = '560035'  \n",
    "country_code = 'IN'  \n",
    "start_date = '2023-08-04'  \n",
    "end_date = '2024-08-05'  \n",
    "\n",
    "weather_data = fetch_weather_data(postal_code, country_code, start_date, end_date, api_key)\n",
    "\n",
    "if weather_data:\n",
    "    print(weather_data[\"data\"][0])\n",
    "else:\n",
    "    print(\"Failed to retrieve weather data.\")"
   ]
  },
  {
   "cell_type": "code",
   "execution_count": null,
   "id": "d1488ef1-aab2-4bfd-9ce6-d10096039c67",
   "metadata": {},
   "outputs": [],
   "source": []
  }
 ],
 "metadata": {
  "kernelspec": {
   "display_name": "Python 3 (ipykernel)",
   "language": "python",
   "name": "python3"
  },
  "language_info": {
   "codemirror_mode": {
    "name": "ipython",
    "version": 3
   },
   "file_extension": ".py",
   "mimetype": "text/x-python",
   "name": "python",
   "nbconvert_exporter": "python",
   "pygments_lexer": "ipython3",
   "version": "3.12.4"
  }
 },
 "nbformat": 4,
 "nbformat_minor": 5
}
